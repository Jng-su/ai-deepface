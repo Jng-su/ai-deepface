{
  "nbformat": 4,
  "nbformat_minor": 0,
  "metadata": {
    "colab": {
      "provenance": [],
      "authorship_tag": "ABX9TyP5hhV/y2r1NcNsaleN536O",
      "include_colab_link": true
    },
    "kernelspec": {
      "name": "python3",
      "display_name": "Python 3"
    },
    "language_info": {
      "name": "python"
    }
  },
  "cells": [
    {
      "cell_type": "markdown",
      "metadata": {
        "id": "view-in-github",
        "colab_type": "text"
      },
      "source": [
        "<a href=\"https://colab.research.google.com/github/Jng-su/ai-deepface/blob/main/deepface.ipynb\" target=\"_parent\"><img src=\"https://colab.research.google.com/assets/colab-badge.svg\" alt=\"Open In Colab\"/></a>"
      ]
    },
    {
      "cell_type": "code",
      "source": [
        "pip install deepface"
      ],
      "metadata": {
        "colab": {
          "base_uri": "https://localhost:8080/"
        },
        "id": "esWI2w2h3UAs",
        "outputId": "66397649-3966-49eb-a6af-861aa732e21b"
      },
      "execution_count": null,
      "outputs": [
        {
          "output_type": "stream",
          "name": "stdout",
          "text": [
            "Collecting deepface\n",
            "  Downloading deepface-0.0.93-py3-none-any.whl.metadata (30 kB)\n",
            "Requirement already satisfied: requests>=2.27.1 in /usr/local/lib/python3.10/dist-packages (from deepface) (2.32.3)\n",
            "Requirement already satisfied: numpy>=1.14.0 in /usr/local/lib/python3.10/dist-packages (from deepface) (1.26.4)\n",
            "Requirement already satisfied: pandas>=0.23.4 in /usr/local/lib/python3.10/dist-packages (from deepface) (2.1.4)\n",
            "Requirement already satisfied: gdown>=3.10.1 in /usr/local/lib/python3.10/dist-packages (from deepface) (5.1.0)\n",
            "Requirement already satisfied: tqdm>=4.30.0 in /usr/local/lib/python3.10/dist-packages (from deepface) (4.66.5)\n",
            "Requirement already satisfied: Pillow>=5.2.0 in /usr/local/lib/python3.10/dist-packages (from deepface) (9.4.0)\n",
            "Requirement already satisfied: opencv-python>=4.5.5.64 in /usr/local/lib/python3.10/dist-packages (from deepface) (4.10.0.84)\n",
            "Requirement already satisfied: tensorflow>=1.9.0 in /usr/local/lib/python3.10/dist-packages (from deepface) (2.17.0)\n",
            "Requirement already satisfied: keras>=2.2.0 in /usr/local/lib/python3.10/dist-packages (from deepface) (3.4.1)\n",
            "Requirement already satisfied: Flask>=1.1.2 in /usr/local/lib/python3.10/dist-packages (from deepface) (2.2.5)\n",
            "Collecting flask-cors>=4.0.1 (from deepface)\n",
            "  Downloading Flask_Cors-4.0.1-py2.py3-none-any.whl.metadata (5.5 kB)\n",
            "Collecting mtcnn>=0.1.0 (from deepface)\n",
            "  Downloading mtcnn-0.1.1-py3-none-any.whl.metadata (5.8 kB)\n",
            "Collecting retina-face>=0.0.1 (from deepface)\n",
            "  Downloading retina_face-0.0.17-py3-none-any.whl.metadata (10 kB)\n",
            "Collecting fire>=0.4.0 (from deepface)\n",
            "  Downloading fire-0.6.0.tar.gz (88 kB)\n",
            "\u001b[2K     \u001b[90m━━━━━━━━━━━━━━━━━━━━━━━━━━━━━━━━━━━━━━━━\u001b[0m \u001b[32m88.4/88.4 kB\u001b[0m \u001b[31m1.6 MB/s\u001b[0m eta \u001b[36m0:00:00\u001b[0m\n",
            "\u001b[?25h  Preparing metadata (setup.py) ... \u001b[?25l\u001b[?25hdone\n",
            "Collecting gunicorn>=20.1.0 (from deepface)\n",
            "  Downloading gunicorn-23.0.0-py3-none-any.whl.metadata (4.4 kB)\n",
            "Requirement already satisfied: six in /usr/local/lib/python3.10/dist-packages (from fire>=0.4.0->deepface) (1.16.0)\n",
            "Requirement already satisfied: termcolor in /usr/local/lib/python3.10/dist-packages (from fire>=0.4.0->deepface) (2.4.0)\n",
            "Requirement already satisfied: Werkzeug>=2.2.2 in /usr/local/lib/python3.10/dist-packages (from Flask>=1.1.2->deepface) (3.0.3)\n",
            "Requirement already satisfied: Jinja2>=3.0 in /usr/local/lib/python3.10/dist-packages (from Flask>=1.1.2->deepface) (3.1.4)\n",
            "Requirement already satisfied: itsdangerous>=2.0 in /usr/local/lib/python3.10/dist-packages (from Flask>=1.1.2->deepface) (2.2.0)\n",
            "Requirement already satisfied: click>=8.0 in /usr/local/lib/python3.10/dist-packages (from Flask>=1.1.2->deepface) (8.1.7)\n",
            "Requirement already satisfied: beautifulsoup4 in /usr/local/lib/python3.10/dist-packages (from gdown>=3.10.1->deepface) (4.12.3)\n",
            "Requirement already satisfied: filelock in /usr/local/lib/python3.10/dist-packages (from gdown>=3.10.1->deepface) (3.15.4)\n",
            "Requirement already satisfied: packaging in /usr/local/lib/python3.10/dist-packages (from gunicorn>=20.1.0->deepface) (24.1)\n",
            "Requirement already satisfied: absl-py in /usr/local/lib/python3.10/dist-packages (from keras>=2.2.0->deepface) (1.4.0)\n",
            "Requirement already satisfied: rich in /usr/local/lib/python3.10/dist-packages (from keras>=2.2.0->deepface) (13.7.1)\n",
            "Requirement already satisfied: namex in /usr/local/lib/python3.10/dist-packages (from keras>=2.2.0->deepface) (0.0.8)\n",
            "Requirement already satisfied: h5py in /usr/local/lib/python3.10/dist-packages (from keras>=2.2.0->deepface) (3.11.0)\n",
            "Requirement already satisfied: optree in /usr/local/lib/python3.10/dist-packages (from keras>=2.2.0->deepface) (0.12.1)\n",
            "Requirement already satisfied: ml-dtypes in /usr/local/lib/python3.10/dist-packages (from keras>=2.2.0->deepface) (0.4.0)\n",
            "Requirement already satisfied: python-dateutil>=2.8.2 in /usr/local/lib/python3.10/dist-packages (from pandas>=0.23.4->deepface) (2.8.2)\n",
            "Requirement already satisfied: pytz>=2020.1 in /usr/local/lib/python3.10/dist-packages (from pandas>=0.23.4->deepface) (2024.1)\n",
            "Requirement already satisfied: tzdata>=2022.1 in /usr/local/lib/python3.10/dist-packages (from pandas>=0.23.4->deepface) (2024.1)\n",
            "Requirement already satisfied: charset-normalizer<4,>=2 in /usr/local/lib/python3.10/dist-packages (from requests>=2.27.1->deepface) (3.3.2)\n",
            "Requirement already satisfied: idna<4,>=2.5 in /usr/local/lib/python3.10/dist-packages (from requests>=2.27.1->deepface) (3.7)\n",
            "Requirement already satisfied: urllib3<3,>=1.21.1 in /usr/local/lib/python3.10/dist-packages (from requests>=2.27.1->deepface) (2.0.7)\n",
            "Requirement already satisfied: certifi>=2017.4.17 in /usr/local/lib/python3.10/dist-packages (from requests>=2.27.1->deepface) (2024.7.4)\n",
            "Requirement already satisfied: astunparse>=1.6.0 in /usr/local/lib/python3.10/dist-packages (from tensorflow>=1.9.0->deepface) (1.6.3)\n",
            "Requirement already satisfied: flatbuffers>=24.3.25 in /usr/local/lib/python3.10/dist-packages (from tensorflow>=1.9.0->deepface) (24.3.25)\n",
            "Requirement already satisfied: gast!=0.5.0,!=0.5.1,!=0.5.2,>=0.2.1 in /usr/local/lib/python3.10/dist-packages (from tensorflow>=1.9.0->deepface) (0.6.0)\n",
            "Requirement already satisfied: google-pasta>=0.1.1 in /usr/local/lib/python3.10/dist-packages (from tensorflow>=1.9.0->deepface) (0.2.0)\n",
            "Requirement already satisfied: libclang>=13.0.0 in /usr/local/lib/python3.10/dist-packages (from tensorflow>=1.9.0->deepface) (18.1.1)\n",
            "Requirement already satisfied: opt-einsum>=2.3.2 in /usr/local/lib/python3.10/dist-packages (from tensorflow>=1.9.0->deepface) (3.3.0)\n",
            "Requirement already satisfied: protobuf!=4.21.0,!=4.21.1,!=4.21.2,!=4.21.3,!=4.21.4,!=4.21.5,<5.0.0dev,>=3.20.3 in /usr/local/lib/python3.10/dist-packages (from tensorflow>=1.9.0->deepface) (3.20.3)\n",
            "Requirement already satisfied: setuptools in /usr/local/lib/python3.10/dist-packages (from tensorflow>=1.9.0->deepface) (71.0.4)\n",
            "Requirement already satisfied: typing-extensions>=3.6.6 in /usr/local/lib/python3.10/dist-packages (from tensorflow>=1.9.0->deepface) (4.12.2)\n",
            "Requirement already satisfied: wrapt>=1.11.0 in /usr/local/lib/python3.10/dist-packages (from tensorflow>=1.9.0->deepface) (1.16.0)\n",
            "Requirement already satisfied: grpcio<2.0,>=1.24.3 in /usr/local/lib/python3.10/dist-packages (from tensorflow>=1.9.0->deepface) (1.64.1)\n",
            "Requirement already satisfied: tensorboard<2.18,>=2.17 in /usr/local/lib/python3.10/dist-packages (from tensorflow>=1.9.0->deepface) (2.17.0)\n",
            "Requirement already satisfied: tensorflow-io-gcs-filesystem>=0.23.1 in /usr/local/lib/python3.10/dist-packages (from tensorflow>=1.9.0->deepface) (0.37.1)\n",
            "Requirement already satisfied: wheel<1.0,>=0.23.0 in /usr/local/lib/python3.10/dist-packages (from astunparse>=1.6.0->tensorflow>=1.9.0->deepface) (0.44.0)\n",
            "Requirement already satisfied: MarkupSafe>=2.0 in /usr/local/lib/python3.10/dist-packages (from Jinja2>=3.0->Flask>=1.1.2->deepface) (2.1.5)\n",
            "Requirement already satisfied: markdown>=2.6.8 in /usr/local/lib/python3.10/dist-packages (from tensorboard<2.18,>=2.17->tensorflow>=1.9.0->deepface) (3.6)\n",
            "Requirement already satisfied: tensorboard-data-server<0.8.0,>=0.7.0 in /usr/local/lib/python3.10/dist-packages (from tensorboard<2.18,>=2.17->tensorflow>=1.9.0->deepface) (0.7.2)\n",
            "Requirement already satisfied: soupsieve>1.2 in /usr/local/lib/python3.10/dist-packages (from beautifulsoup4->gdown>=3.10.1->deepface) (2.6)\n",
            "Requirement already satisfied: PySocks!=1.5.7,>=1.5.6 in /usr/local/lib/python3.10/dist-packages (from requests[socks]->gdown>=3.10.1->deepface) (1.7.1)\n",
            "Requirement already satisfied: markdown-it-py>=2.2.0 in /usr/local/lib/python3.10/dist-packages (from rich->keras>=2.2.0->deepface) (3.0.0)\n",
            "Requirement already satisfied: pygments<3.0.0,>=2.13.0 in /usr/local/lib/python3.10/dist-packages (from rich->keras>=2.2.0->deepface) (2.16.1)\n",
            "Requirement already satisfied: mdurl~=0.1 in /usr/local/lib/python3.10/dist-packages (from markdown-it-py>=2.2.0->rich->keras>=2.2.0->deepface) (0.1.2)\n",
            "Downloading deepface-0.0.93-py3-none-any.whl (108 kB)\n",
            "\u001b[2K   \u001b[90m━━━━━━━━━━━━━━━━━━━━━━━━━━━━━━━━━━━━━━━━\u001b[0m \u001b[32m108.6/108.6 kB\u001b[0m \u001b[31m5.0 MB/s\u001b[0m eta \u001b[36m0:00:00\u001b[0m\n",
            "\u001b[?25hDownloading Flask_Cors-4.0.1-py2.py3-none-any.whl (14 kB)\n",
            "Downloading gunicorn-23.0.0-py3-none-any.whl (85 kB)\n",
            "\u001b[2K   \u001b[90m━━━━━━━━━━━━━━━━━━━━━━━━━━━━━━━━━━━━━━━━\u001b[0m \u001b[32m85.0/85.0 kB\u001b[0m \u001b[31m5.3 MB/s\u001b[0m eta \u001b[36m0:00:00\u001b[0m\n",
            "\u001b[?25hDownloading mtcnn-0.1.1-py3-none-any.whl (2.3 MB)\n",
            "\u001b[2K   \u001b[90m━━━━━━━━━━━━━━━━━━━━━━━━━━━━━━━━━━━━━━━━\u001b[0m \u001b[32m2.3/2.3 MB\u001b[0m \u001b[31m15.3 MB/s\u001b[0m eta \u001b[36m0:00:00\u001b[0m\n",
            "\u001b[?25hDownloading retina_face-0.0.17-py3-none-any.whl (25 kB)\n",
            "Building wheels for collected packages: fire\n",
            "  Building wheel for fire (setup.py) ... \u001b[?25l\u001b[?25hdone\n",
            "  Created wheel for fire: filename=fire-0.6.0-py2.py3-none-any.whl size=117030 sha256=ba61c0b290cd3ba1f55c5d57921eb91b1b42bf42c257c788fe6767ebc7b37c40\n",
            "  Stored in directory: /root/.cache/pip/wheels/d6/6d/5d/5b73fa0f46d01a793713f8859201361e9e581ced8c75e5c6a3\n",
            "Successfully built fire\n",
            "Installing collected packages: gunicorn, fire, flask-cors, mtcnn, retina-face, deepface\n",
            "Successfully installed deepface-0.0.93 fire-0.6.0 flask-cors-4.0.1 gunicorn-23.0.0 mtcnn-0.1.1 retina-face-0.0.17\n"
          ]
        }
      ]
    },
    {
      "cell_type": "markdown",
      "source": [
        "# Deepface 모델 선정 테스트"
      ],
      "metadata": {
        "id": "mUpWpccUEv9H"
      }
    },
    {
      "cell_type": "markdown",
      "source": [
        "### 동일 인물 테스트 (모델별)"
      ],
      "metadata": {
        "id": "9746Nh6LDl00"
      }
    },
    {
      "cell_type": "code",
      "source": [
        "from deepface import DeepFace\n",
        "import numpy as np\n",
        "\n",
        "# 이미지 경로 설정\n",
        "image_path1 = \"/content/drive/MyDrive/deepface/data/Mark Zuckerberg (1).png\"\n",
        "image_path2 = \"/content/drive/MyDrive/deepface/data/Mark Zuckerberg (2).png\"\n",
        "\n",
        "# 사용하고자 하는 모델 리스트\n",
        "models = [ \"VGG-Face\", \"Facenet\", \"Facenet512\", \"OpenFace\", \"DeepFace\", \"DeepID\",  \"ArcFace\", \"Dlib\", \"SFace\", \"GhostFaceNet\" ]\n",
        "\n",
        "\n",
        "for model_name in models:\n",
        "    print(f'\\n{\"=\"*60}\\n\\nTesting model: {model_name}')\n",
        "\n",
        "    try:\n",
        "        # 두 이미지의 얼굴 임베딩을 계산\n",
        "        embedding1 = DeepFace.represent(img_path=image_path1, model_name=model_name)[0][\"embedding\"]\n",
        "        embedding2 = DeepFace.represent(img_path=image_path2, model_name=model_name)[0][\"embedding\"]\n",
        "\n",
        "        # 임베딩 벡터의 코사인 유사도 계산\n",
        "        cosine_similarity = np.dot(embedding1, embedding2) / (np.linalg.norm(embedding1) * np.linalg.norm(embedding2))\n",
        "\n",
        "        # 유사도 출력\n",
        "        print(f\"Accuracy with {model_name}: {cosine_similarity}\")\n",
        "\n",
        "    except Exception as e:\n",
        "        print(f\"Error with {model_name}: {str(e)}\")\n",
        "\n",
        "print (f'\\n{\"=\"*60}')"
      ],
      "metadata": {
        "colab": {
          "base_uri": "https://localhost:8080/"
        },
        "id": "ZrFJ7fACYF5Z",
        "outputId": "0e6d26b7-79c2-4140-8563-bc99c2462565"
      },
      "execution_count": 112,
      "outputs": [
        {
          "output_type": "stream",
          "name": "stdout",
          "text": [
            "\n",
            "============================================================\n",
            "\n",
            "Testing model: VGG-Face\n",
            "Accuracy with VGG-Face: 0.732075657099241\n",
            "\n",
            "============================================================\n",
            "\n",
            "Testing model: Facenet\n",
            "Accuracy with Facenet: 0.8974553243869735\n",
            "\n",
            "============================================================\n",
            "\n",
            "Testing model: Facenet512\n",
            "Accuracy with Facenet512: 0.8945186010611428\n",
            "\n",
            "============================================================\n",
            "\n",
            "Testing model: OpenFace\n",
            "Accuracy with OpenFace: 0.6660119273429991\n",
            "\n",
            "============================================================\n",
            "\n",
            "Testing model: DeepFace\n",
            "Error with DeepFace: DeepFace model requires LocallyConnected2D but it is no longer supported after tf 2.12 but you have 2.17. You need to downgrade your tf.\n",
            "\n",
            "============================================================\n",
            "\n",
            "Testing model: DeepID\n",
            "Accuracy with DeepID: 0.9556561616083468\n",
            "\n",
            "============================================================\n",
            "\n",
            "Testing model: ArcFace\n",
            "Accuracy with ArcFace: 0.6673980142287589\n",
            "\n",
            "============================================================\n",
            "\n",
            "Testing model: Dlib\n",
            "Error with Dlib: Error while calling cudaGetDevice(&the_device_id) in file /tmp/pip-install-__q6gnzd/dlib_8e35246b18d44028abb0e646a3c92032/dlib/cuda/gpu_data.cpp:204. code: 35, reason: CUDA driver version is insufficient for CUDA runtime version\n",
            "\n",
            "============================================================\n",
            "\n",
            "Testing model: SFace\n",
            "Accuracy with SFace: 0.710532465310893\n",
            "\n",
            "============================================================\n",
            "\n",
            "Testing model: GhostFaceNet\n",
            "Accuracy with GhostFaceNet: 0.6025145324390128\n",
            "\n",
            "============================================================\n"
          ]
        }
      ]
    },
    {
      "cell_type": "markdown",
      "source": [
        "결과 : DeepID가 성능이 좋아보임 또는 facenet, facenet512"
      ],
      "metadata": {
        "id": "90KRoAT6E2Ol"
      }
    },
    {
      "cell_type": "markdown",
      "source": [
        "### 다른 인물 테스트 (모델별)"
      ],
      "metadata": {
        "id": "xA0lYCdMDscI"
      }
    },
    {
      "cell_type": "code",
      "source": [
        "from deepface import DeepFace\n",
        "import numpy as np\n",
        "\n",
        "# 이미지 경로 설정\n",
        "image_path1 = \"/content/drive/MyDrive/deepface/data/Mark Zuckerberg (1).png\"\n",
        "image_path2 = \"/content/drive/MyDrive/deepface/data/Benedict Cumberbatch (2).png\"\n",
        "\n",
        "# 사용하고자 하는 모델 리스트\n",
        "models = [ \"VGG-Face\", \"Facenet\", \"Facenet512\", \"OpenFace\", \"DeepFace\", \"DeepID\",  \"ArcFace\", \"Dlib\", \"SFace\", \"GhostFaceNet\" ]\n",
        "\n",
        "\n",
        "for model_name in models:\n",
        "    print(f'\\n{\"=\"*60}\\n\\nTesting model: {model_name}')\n",
        "\n",
        "    try:\n",
        "        # 두 이미지의 얼굴 임베딩을 계산\n",
        "        embedding1 = DeepFace.represent(img_path=image_path1, model_name=model_name)[0][\"embedding\"]\n",
        "        embedding2 = DeepFace.represent(img_path=image_path2, model_name=model_name)[0][\"embedding\"]\n",
        "\n",
        "        # 임베딩 벡터의 코사인 유사도 계산\n",
        "        cosine_similarity = np.dot(embedding1, embedding2) / (np.linalg.norm(embedding1) * np.linalg.norm(embedding2))\n",
        "\n",
        "        # 유사도 출력\n",
        "        print(f\"Accuracy with {model_name}: {cosine_similarity}\")\n",
        "\n",
        "    except Exception as e:\n",
        "        print(f\"Error with {model_name}: {str(e)}\")\n",
        "\n",
        "print (f'\\n{\"=\"*60}')"
      ],
      "metadata": {
        "colab": {
          "base_uri": "https://localhost:8080/"
        },
        "id": "h7QSs5WVaA33",
        "outputId": "f265ed45-fc80-4dc9-db98-4968307cc9fb"
      },
      "execution_count": 113,
      "outputs": [
        {
          "output_type": "stream",
          "name": "stdout",
          "text": [
            "\n",
            "============================================================\n",
            "\n",
            "Testing model: VGG-Face\n",
            "Accuracy with VGG-Face: 0.042227660308056685\n",
            "\n",
            "============================================================\n",
            "\n",
            "Testing model: Facenet\n",
            "Accuracy with Facenet: -0.14278798182229493\n",
            "\n",
            "============================================================\n",
            "\n",
            "Testing model: Facenet512\n",
            "Accuracy with Facenet512: -0.20904862138952346\n",
            "\n",
            "============================================================\n",
            "\n",
            "Testing model: OpenFace\n",
            "Accuracy with OpenFace: 0.5802419424698372\n",
            "\n",
            "============================================================\n",
            "\n",
            "Testing model: DeepFace\n",
            "Error with DeepFace: DeepFace model requires LocallyConnected2D but it is no longer supported after tf 2.12 but you have 2.17. You need to downgrade your tf.\n",
            "\n",
            "============================================================\n",
            "\n",
            "Testing model: DeepID\n",
            "Accuracy with DeepID: 0.878178392076476\n",
            "\n",
            "============================================================\n",
            "\n",
            "Testing model: ArcFace\n",
            "Accuracy with ArcFace: -0.005570723053015217\n",
            "\n",
            "============================================================\n",
            "\n",
            "Testing model: Dlib\n",
            "Error with Dlib: Error while calling cudaGetDevice(&the_device_id) in file /tmp/pip-install-__q6gnzd/dlib_8e35246b18d44028abb0e646a3c92032/dlib/cuda/gpu_data.cpp:204. code: 35, reason: CUDA driver version is insufficient for CUDA runtime version\n",
            "\n",
            "============================================================\n",
            "\n",
            "Testing model: SFace\n",
            "Accuracy with SFace: 0.13198735337083142\n",
            "\n",
            "============================================================\n",
            "\n",
            "Testing model: GhostFaceNet\n",
            "Accuracy with GhostFaceNet: 0.06162921722194012\n",
            "\n",
            "============================================================\n"
          ]
        }
      ]
    },
    {
      "cell_type": "markdown",
      "source": [
        "결과 : 예상과달리 DeepID의 성능이 이상함, facenet 혹은 facenet512 선택"
      ],
      "metadata": {
        "id": "3RtOxY4UFIgc"
      }
    },
    {
      "cell_type": "markdown",
      "source": [
        "# Deepface 라이브러리의 Facenet 사용"
      ],
      "metadata": {
        "id": "Ini33iB_DxAL"
      }
    },
    {
      "cell_type": "code",
      "source": [
        "from deepface import DeepFace\n",
        "import numpy as np\n",
        "import os\n",
        "\n",
        "compare_img = \"/content/drive/MyDrive/deepface/data/Mark Zuckerberg (1).png\"\n",
        "\n",
        "compare_img_name = os.path.basename(compare_img)\n",
        "\n",
        "print(f'{\"=\" * 60}\\n\\nComparing_image = {compare_img_name}\\n\\n{\"=\" * 60}')\n",
        "\n",
        "temp_imgs = [\n",
        "    \"/content/drive/MyDrive/deepface/data/Elon Musk (1).png\",\n",
        "    \"/content/drive/MyDrive/deepface/data/Mark Zuckerberg (2).png\",\n",
        "    \"/content/drive/MyDrive/deepface/data/Mark Zuckerberg (3).png\",\n",
        "    \"/content/drive/MyDrive/deepface/data/Benedict Cumberbatch (1).png\",\n",
        "    \"/content/drive/MyDrive/deepface/data/Benedict Cumberbatch (2).png\"\n",
        "]\n",
        "\n",
        "embedding_1 = DeepFace.represent(img_path=compare_img, model_name=\"Facenet\")[0][\"embedding\"]\n",
        "\n",
        "for img in temp_imgs:\n",
        "    embedding_2 = DeepFace.represent(img_path=img, model_name=\"Facenet\")[0][\"embedding\"]\n",
        "    cosine_similarity = np.dot(embedding_1, embedding_2) / (np.linalg.norm(embedding_1) * np.linalg.norm(embedding_2))\n",
        "\n",
        "    # 파일명 추출\n",
        "    img_name = os.path.basename(img)\n",
        "\n",
        "    print(f\"\\n>>>>> {img_name} <<<<<\")\n",
        "    print(f\"Cosine Similarity: {cosine_similarity:.6f}\")\n",
        "    print(f\"Match: {cosine_similarity > 0.80}\")\n",
        "    print(f'\\n{\"=\" * 60}')"
      ],
      "metadata": {
        "colab": {
          "base_uri": "https://localhost:8080/"
        },
        "id": "kiQ3gLlsz9ks",
        "outputId": "d58aaab8-7c4b-4ceb-efd3-b29bc003e1c8"
      },
      "execution_count": 111,
      "outputs": [
        {
          "output_type": "stream",
          "name": "stdout",
          "text": [
            "============================================================\n",
            "\n",
            "Comparing_image = Mark Zuckerberg (1).png\n",
            "\n",
            "============================================================\n",
            "\n",
            ">>>>> Elon Musk (1).png <<<<<\n",
            "Cosine Similarity: -0.076094\n",
            "Match: False\n",
            "\n",
            "============================================================\n",
            "\n",
            ">>>>> Mark Zuckerberg (2).png <<<<<\n",
            "Cosine Similarity: 0.897455\n",
            "Match: True\n",
            "\n",
            "============================================================\n",
            "\n",
            ">>>>> Mark Zuckerberg (3).png <<<<<\n",
            "Cosine Similarity: 0.827500\n",
            "Match: True\n",
            "\n",
            "============================================================\n",
            "\n",
            ">>>>> Benedict Cumberbatch (1).png <<<<<\n",
            "Cosine Similarity: -0.045518\n",
            "Match: False\n",
            "\n",
            "============================================================\n",
            "\n",
            ">>>>> Benedict Cumberbatch (2).png <<<<<\n",
            "Cosine Similarity: -0.142788\n",
            "Match: False\n",
            "\n",
            "============================================================\n"
          ]
        }
      ]
    },
    {
      "cell_type": "markdown",
      "source": [
        "결과 : Accuracy를 0.95 이상으로 하고 싶지만 오차 범위가 생각보다 큼\n",
        "\n",
        "추후 : 해상도를 낮추고 테스트 실행 (해상도 관련 라이브러리)"
      ],
      "metadata": {
        "id": "jjac-3ODEOui"
      }
    }
  ]
}